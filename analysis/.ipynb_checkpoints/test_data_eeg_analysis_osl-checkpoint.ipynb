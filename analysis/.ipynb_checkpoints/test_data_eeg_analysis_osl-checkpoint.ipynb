{
 "cells": [
  {
   "cell_type": "code",
   "execution_count": 2,
   "id": "853dbfc6-d4a5-4ed0-ace5-d958a55fc457",
   "metadata": {},
   "outputs": [],
   "source": [
    "import logging\n",
    "from glob import glob\n",
    "from pathlib import Path\n",
    "import mne\n",
    "import numpy as np\n",
    "from scipy import io\n",
    "from dask.distributed import Client\n",
    "from osl import preprocessing, utils\n"
   ]
  },
  {
   "cell_type": "code",
   "execution_count": 4,
   "id": "d5746fce-ff5d-48f0-8250-239cc0c54502",
   "metadata": {},
   "outputs": [
    {
     "name": "stdout",
     "output_type": "stream",
     "text": [
      " OSL osl_logger: handler 'console' level set to 'INFO'\n",
      " OSL Logger Started\n"
     ]
    }
   ],
   "source": [
    "logger = logging.getLogger(\"osl\")\n",
    "utils.logger.set_up(level=\"INFO\")"
   ]
  },
  {
   "cell_type": "code",
   "execution_count": 5,
   "id": "a91a2c12-f715-434b-995e-dd2d2cb75ae6",
   "metadata": {},
   "outputs": [],
   "source": [
    "def create_heog(dataset, userargs):\n",
    "    try:\n",
    "        F7 = dataset[\"raw\"].get_data(picks=\"F7\")\n",
    "        F8 = dataset[\"raw\"].get_data(picks=\"F8\")\n",
    "        heog = F7 - F8\n",
    "        info = mne.create_info([\"HEOG\"], dataset[\"raw\"].info[\"sfreq\"], [\"eog\"])\n",
    "        eog_raw = mne.io.RawArray(heog, info)\n",
    "        dataset[\"raw\"].add_channels([eog_raw], force_update_info=True)\n",
    "        logger.info(\"HEOG channel created successfully.\")\n",
    "    except Exception as e:\n",
    "        logger.warning(f\"Could not create HEOG channel: {e}\")\n",
    "    return dataset"
   ]
  },
  {
   "cell_type": "code",
   "execution_count": 6,
   "id": "31976c3d-ff27-487b-b04a-8202e0b35da4",
   "metadata": {},
   "outputs": [],
   "source": [
    "def run_ica(dataset, userargs, logfile=None):\n",
    "    ica = mne.preprocessing.ICA(\n",
    "        n_components=userargs[\"n_components\"], max_iter=1000, random_state=42\n",
    "    )\n",
    "    fraw = dataset[\"raw\"].copy().filter(l_freq=1.0, h_freq=None)\n",
    "    ica.fit(fraw, picks=userargs[\"picks\"])\n",
    "    dataset[\"ica\"] = ica\n",
    "    logger.info(\"Starting EOG artifact rejection\")\n",
    "    # Find and exclude EOG components\n",
    "    eog_indices, eog_scores = ica.find_bads_eog(dataset[\"raw\"])\n",
    "    dataset[\"ica\"].exclude.extend(eog_indices)\n",
    "    logger.info(f\"Marking {len(eog_indices)} ICs as EOG: {eog_indices}\")\n",
    "    # Apply ICA denoising\n",
    "    if userargs.get(\"apply\", True):\n",
    "        logger.info(\"Removing selected components from raw data\")\n",
    "        ica.apply(dataset[\"raw\"])\n",
    "    else:\n",
    "        logger.info(\"Components were not removed from raw data\")\n",
    "    return dataset"
   ]
  },
  {
   "cell_type": "code",
   "execution_count": 12,
   "id": "aa5ff0dc-1358-4833-90d7-0c07d965cc51",
   "metadata": {},
   "outputs": [],
   "source": [
    "config = \"\"\"\n",
    "    preproc:\n",
    "      - create_heog: {}\n",
    "      - set_channel_types: {EOG: eog, ECG: ecg}\n",
    "      - crop: {tmin: 15}\n",
    "      - filter: {l_freq: 0.25, h_freq: 125, method: iir, iir_params: {order: 5, ftype: butter}}\n",
    "      - notch_filter: {freqs: [50, 100]}\n",
    "      - resample: {sfreq: 250}\n",
    "      - bad_channels: {picks: eeg}\n",
    "      - bad_segments: {segment_len: 2500, picks: eog}\n",
    "      - bad_segments: {segment_len: 500, picks: eeg, significance_level: 0.1}\n",
    "      - bad_segments: {segment_len: 500, picks: eeg, mode: diff, significance_level: 0.1}\n",
    "      - run_ica: {n_components: 30, picks: eeg}\n",
    "      - interpolate_bads: {}\n",
    "      - drop_channels: {ch_names: ['VEOG', 'HEOG']}\n",
    "      - set_eeg_reference: {projection: true}\n",
    "\"\"\""
   ]
  },
  {
   "cell_type": "code",
   "execution_count": 13,
   "id": "8c322cd2-aa89-44c3-a70a-446ea0d9be36",
   "metadata": {},
   "outputs": [],
   "source": [
    "# Data file\n",
    "data_file = '/Users/majafriedemann/pilot_eeg_data/reward-effort-task/2024-09-19_eleonora/p01_task1.vhdr'\n",
    "\n",
    "# Output directory\n",
    "PREPROC_DIR = '/Users/majafriedemann/pilot_eeg_data/preprocessed'\n",
    "\n",
    "# Create the output directory if it doesn't exist\n",
    "Path(PREPROC_DIR).mkdir(parents=True, exist_ok=True)\n",
    "\n",
    "# Generate a list of input files\n",
    "inputs = [Path(data_file)]"
   ]
  },
  {
   "cell_type": "code",
   "execution_count": 14,
   "id": "149820aa-492c-4ada-ad44-8cc45c0cb39d",
   "metadata": {},
   "outputs": [
    {
     "name": "stderr",
     "output_type": "stream",
     "text": [
      "/Users/majafriedemann/miniconda3/envs/osl/lib/python3.8/site-packages/distributed/dashboard/core.py:20: UserWarning: \n",
      "Dask needs bokeh >= 2.4.2, < 3 for the dashboard.\n",
      "You have bokeh==3.1.1.\n",
      "Continuing without the dashboard.\n",
      "  warnings.warn(\n",
      "/Users/majafriedemann/miniconda3/envs/osl/lib/python3.8/site-packages/distributed/node.py:182: UserWarning: Port 8787 is already in use.\n",
      "Perhaps you already have a cluster running?\n",
      "Hosting the HTTP server on port 62531 instead\n",
      "  warnings.warn(\n"
     ]
    }
   ],
   "source": [
    "# Setup parallel processing\n",
    "client = Client(n_workers=1, threads_per_worker=1)"
   ]
  },
  {
   "cell_type": "code",
   "execution_count": 15,
   "id": "78591178-8456-48f3-9e7f-9555faf47782",
   "metadata": {},
   "outputs": [
    {
     "name": "stdout",
     "output_type": "stream",
     "text": [
      " OSL osl_logger: handler 'console' level set to 'INFO'\n",
      " logging to file: /Users/majafriedemann/pilot_eeg_data/preprocessed/logs/osl_batch.log\n",
      " Starting OSL Batch Processing\n",
      " 1 files to be processed.\n",
      " Outputs saving to: /Users/majafriedemann/pilot_eeg_data/preprocessed\n",
      " Running config\n",
      " {'meta': {'event_codes': None},\n",
      " 'preproc': [{'create_heog': {}},\n",
      "             {'set_channel_types': {'ECG': 'ecg', 'EOG': 'eog'}},\n",
      "             {'crop': {'tmin': 15}},\n",
      "             {'filter': {'h_freq': 125,\n",
      "                         'iir_params': {'ftype': 'butter', 'order': 5},\n",
      "                         'l_freq': 0.25,\n",
      "                         'method': 'iir'}},\n",
      "             {'notch_filter': {'freqs': [50, 100]}},\n",
      "             {'resample': {'sfreq': 250}},\n",
      "             {'bad_channels': {'picks': 'eeg'}},\n",
      "             {'bad_segments': {'picks': 'eog', 'segment_len': 2500}},\n",
      "             {'bad_segments': {'picks': 'eeg',\n",
      "                               'segment_len': 500,\n",
      "                               'significance_level': 0.1}},\n",
      "             {'bad_segments': {'mode': 'diff',\n",
      "                               'picks': 'eeg',\n",
      "                               'segment_len': 500,\n",
      "                               'significance_level': 0.1}},\n",
      "             {'run_ica': {'n_components': 30, 'picks': 'eeg'}},\n",
      "             {'interpolate_bads': {}},\n",
      "             {'drop_channels': {'ch_names': ['VEOG', 'HEOG']}},\n",
      "             {'set_eeg_reference': {'projection': True}}]}\n",
      " Dask Client : <Client: 'tcp://127.0.0.1:62532' processes=1 threads=1, memory=32.00 GiB>\n",
      " Dask Client dashboard link: http://127.0.0.1:62531/status\n",
      " Function defined : functools.partial(<function run_proc_chain at 0x7fe8c11cb4c0>, outdir='/Users/majafriedemann/pilot_eeg_data/preprocessed', ftype=None, logsdir=PosixPath('/Users/majafriedemann/pilot_eeg_data/preprocessed/logs'), reportdir=PosixPath('/Users/majafriedemann/pilot_eeg_data/preprocessed/preproc_report'), ret_dataset=False, gen_report=True, overwrite=True, extra_funcs=[<function create_heog at 0x7fe898836ca0>, <function run_ica at 0x7fe8a1fb03a0>])\n",
      "p01_task1 : OSL osl_logger: handler 'console' level set to 'INFO'\n",
      "p01_task1 : logging to file: /Users/majafriedemann/pilot_eeg_data/preprocessed/logs/p01_task1_None.log\n",
      "p01_task1 : 2024-09-30 15:55:06 : Starting OSL Processing\n",
      "p01_task1 : input : /Users/majafriedemann/pilot_eeg_data/reward-effort-task/2024-09-19_eleonora/p01_task1.vhdr\n",
      "p01_task1 : IMPORTING: /Users/majafriedemann/pilot_eeg_data/reward-effort-task/2024-09-19_eleonora/p01_task1.vhdr\n",
      "p01_task1 : Detected brainvision file format, using: mne.io.read_raw_brainvision\n",
      "p01_task1 : CUSTOM Stage - create_heog\n",
      "p01_task1 : userargs: {}\n",
      "p01_task1 : HEOG channel created successfully.\n",
      "p01_task1 : MNE Stage - raw.set_channel_types\n",
      "p01_task1 : userargs: {'EOG': 'eog', 'ECG': 'ecg'}\n",
      "p01_task1 : MNE Stage - raw.crop\n",
      "p01_task1 : userargs: {'tmin': 15}\n",
      "p01_task1 : MNE Stage - raw.filter\n",
      "p01_task1 : userargs: {'l_freq': 0.25, 'h_freq': 125, 'method': 'iir', 'iir_params': {'order': 5, 'ftype': 'butter'}}\n",
      "p01_task1 : MNE Stage - raw.notch_filter\n",
      "p01_task1 : userargs: {'freqs': [50, 100]}\n",
      "p01_task1 : **********************\n",
      "p01_task1 : * PROCESSING FAILED! *\n",
      "p01_task1 : **********************\n",
      "p01_task1 : notch_filter : <function run_mne_notch_filter at 0x7fb9f4536f70>\n",
      "p01_task1 : <class 'AttributeError'>\n",
      "p01_task1 : 'list' object has no attribute 'split'\n",
      "p01_task1 : None\n",
      " Computation complete\n",
      " OSL osl_logger: handler 'console' level set to 'INFO'\n",
      " logging to file: /Users/majafriedemann/pilot_eeg_data/preprocessed/logs/osl_batch.log\n",
      " Processed 0/1 files successfully\n"
     ]
    },
    {
     "data": {
      "text/plain": [
       "[False]"
      ]
     },
     "execution_count": 15,
     "metadata": {},
     "output_type": "execute_result"
    }
   ],
   "source": [
    "# Preprocessing\n",
    "preprocessing.run_proc_batch(\n",
    "    config,\n",
    "    inputs,\n",
    "    outdir=PREPROC_DIR,\n",
    "    overwrite=True,\n",
    "    extra_funcs=[create_heog, run_ica],\n",
    "    dask_client=client,\n",
    ")"
   ]
  },
  {
   "cell_type": "code",
   "execution_count": null,
   "id": "7a143d1b-aca6-4d36-84a0-9226971c85f5",
   "metadata": {},
   "outputs": [],
   "source": []
  },
  {
   "cell_type": "code",
   "execution_count": null,
   "id": "f3b429b9-f1bc-42d4-ab5a-1abba0c7e338",
   "metadata": {},
   "outputs": [],
   "source": []
  },
  {
   "cell_type": "code",
   "execution_count": null,
   "id": "0b5190fe-2bf8-466d-8e9a-910ab5552521",
   "metadata": {},
   "outputs": [],
   "source": []
  },
  {
   "cell_type": "code",
   "execution_count": 11,
   "id": "f3010743-6cc2-4d59-a234-f9525266b66d",
   "metadata": {},
   "outputs": [
    {
     "name": "stdout",
     "output_type": "stream",
     "text": [
      "['Fp1', 'F3', 'F7', 'FC5', 'FC1', 'FCz', 'C3', 'T7', 'TP9', 'CP5', 'CP1', 'Pz', 'P3', 'P7', 'O1', 'Oz', 'O2', 'P4', 'P8', 'TP10', 'CP6', 'CP2', 'CPz', 'Cz', 'C4', 'T8', 'FC6', 'FC2', 'F4', 'F8', 'Fp2', 'ECG', 'EOG']\n"
     ]
    }
   ],
   "source": [
    "import mne\n",
    "\n",
    "data_file = '/Users/majafriedemann/pilot_eeg_data/reward-effort-task/2024-09-19_eleonora/p01_task1.vhdr'\n",
    "raw = mne.io.read_raw_brainvision(data_file, preload=True)\n",
    "print(raw.ch_names)\n"
   ]
  },
  {
   "cell_type": "code",
   "execution_count": null,
   "id": "0c47376f-7258-46ab-b99f-f3e3ba524f34",
   "metadata": {},
   "outputs": [],
   "source": []
  },
  {
   "cell_type": "code",
   "execution_count": null,
   "id": "c5a95d1a-cec5-4e10-8df4-4e493fe5d613",
   "metadata": {},
   "outputs": [],
   "source": []
  },
  {
   "cell_type": "code",
   "execution_count": null,
   "id": "bde8452e-3d6a-44a8-be78-dc56797bfa47",
   "metadata": {},
   "outputs": [],
   "source": []
  },
  {
   "cell_type": "code",
   "execution_count": null,
   "id": "e6f12502-ead3-440a-a426-4c5edaa63072",
   "metadata": {},
   "outputs": [],
   "source": []
  },
  {
   "cell_type": "code",
   "execution_count": null,
   "id": "9253f846-61cc-41d2-be08-0e16bc2ab5e0",
   "metadata": {},
   "outputs": [],
   "source": []
  },
  {
   "cell_type": "code",
   "execution_count": null,
   "id": "5ebf46e8-b67e-40aa-9994-096169bd16e8",
   "metadata": {},
   "outputs": [],
   "source": []
  },
  {
   "cell_type": "code",
   "execution_count": null,
   "id": "ff3c3c6a-5ddb-4e28-81f7-e9f7d9121095",
   "metadata": {},
   "outputs": [],
   "source": []
  },
  {
   "cell_type": "code",
   "execution_count": null,
   "id": "985cf776-14a9-40af-b188-c423c3635edd",
   "metadata": {},
   "outputs": [],
   "source": []
  }
 ],
 "metadata": {
  "kernelspec": {
   "display_name": "Python 3 (ipykernel)",
   "language": "python",
   "name": "python3"
  },
  "language_info": {
   "codemirror_mode": {
    "name": "ipython",
    "version": 3
   },
   "file_extension": ".py",
   "mimetype": "text/x-python",
   "name": "python",
   "nbconvert_exporter": "python",
   "pygments_lexer": "ipython3",
   "version": "3.8.16"
  }
 },
 "nbformat": 4,
 "nbformat_minor": 5
}
