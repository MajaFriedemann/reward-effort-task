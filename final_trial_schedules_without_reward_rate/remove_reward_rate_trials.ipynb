{
 "cells": [
  {
   "cell_type": "code",
   "execution_count": null,
   "metadata": {},
   "outputs": [
    {
     "name": "stdout",
     "output_type": "stream",
     "text": [
      "Processing complete. Filtered files are saved in: /Users/majafriedemann/Documents/GitHub/reward-effort-task/final_trial_schedules_without_reward_rate\n"
     ]
    }
   ],
   "source": [
    "# REMOVE REWARD RATE TRIALS AND RE-SET TRIAL NUMBERS AND BLOCK NUMBERS\n",
    "\n",
    "import os\n",
    "import pandas as pd\n",
    "\n",
    "# Define the input and output folder paths\n",
    "input_folder = \"/Users/majafriedemann/Documents/GitHub/reward-effort-task/final_trial_schedules\"\n",
    "output_folder = \"/Users/majafriedemann/Documents/GitHub/reward-effort-task/final_trial_schedules_without_reward_rate\"\n",
    "\n",
    "# Ensure the output folder exists\n",
    "os.makedirs(output_folder, exist_ok=True)\n",
    "\n",
    "# Iterate through all CSV files in the input folder\n",
    "for file_name in os.listdir(input_folder):\n",
    "    if file_name.endswith(\".csv\"):\n",
    "        # Construct full file paths\n",
    "        input_file_path = os.path.join(input_folder, file_name)\n",
    "        output_file_path = os.path.join(output_folder, file_name)\n",
    "\n",
    "        # Load the CSV file\n",
    "        df = pd.read_csv(input_file_path)\n",
    "\n",
    "        # Remove rows where 'attention_focus' column is 'reward'\n",
    "        df_filtered = df[df['attention_focus'] != 'reward'].reset_index(drop=True)\n",
    "\n",
    "        # Re-set the 'trial_in_experiment' column to range from 1 to the number of remaining trials\n",
    "        df_filtered['trial_in_experiment'] = range(1, len(df_filtered) + 1)\n",
    "\n",
    "        # Re-set the 'block_number' column based on the new trial_in_experiment\n",
    "        df_filtered['block_number'] = ((df_filtered['trial_in_experiment'] - 1) // 50) + 1\n",
    "\n",
    "        # Save the filtered DataFrame to the output folder\n",
    "        df_filtered.to_csv(output_file_path, index=False)\n",
    "\n",
    "print(\"Processing complete. Filtered files are saved in:\", output_folder)\n"
   ]
  },
  {
   "cell_type": "code",
   "execution_count": 7,
   "metadata": {},
   "outputs": [
    {
     "name": "stdout",
     "output_type": "stream",
     "text": [
      "Deleted duplicate file: /Users/majafriedemann/Documents/GitHub/reward-effort-task/final_trial_schedules_without_reward_rate/schedule_A_6.csv\n",
      "Deleted duplicate file: /Users/majafriedemann/Documents/GitHub/reward-effort-task/final_trial_schedules_without_reward_rate/schedule_A_5.csv\n",
      "Deleted duplicate file: /Users/majafriedemann/Documents/GitHub/reward-effort-task/final_trial_schedules_without_reward_rate/schedule_A_3.csv\n",
      "Deleted duplicate file: /Users/majafriedemann/Documents/GitHub/reward-effort-task/final_trial_schedules_without_reward_rate/schedule_A_2.csv\n",
      "Deleted duplicate file: /Users/majafriedemann/Documents/GitHub/reward-effort-task/final_trial_schedules_without_reward_rate/schedule_B_6.csv\n",
      "Deleted duplicate file: /Users/majafriedemann/Documents/GitHub/reward-effort-task/final_trial_schedules_without_reward_rate/schedule_B_5.csv\n",
      "Deleted duplicate file: /Users/majafriedemann/Documents/GitHub/reward-effort-task/final_trial_schedules_without_reward_rate/schedule_B_2.csv\n",
      "Deleted duplicate file: /Users/majafriedemann/Documents/GitHub/reward-effort-task/final_trial_schedules_without_reward_rate/schedule_B_3.csv\n",
      "Duplicate file removal complete.\n"
     ]
    }
   ],
   "source": [
    "# REMOVE DUPLIACTE TRIAL SCHEDULES (no more counter-balancing attention_focus necessary)\n",
    "\n",
    "import hashlib\n",
    "\n",
    "# Define the input and output folder paths\n",
    "input_folder = \"/Users/majafriedemann/Documents/GitHub/reward-effort-task/final_trial_schedules_without_reward_rate\"\n",
    "\n",
    "# Function to calculate a hash of the DataFrame content excluding 'schedule_version'\n",
    "def calculate_hash(df):\n",
    "    # Drop the 'schedule_version' column if it exists\n",
    "    if 'schedule_version' in df.columns:\n",
    "        df = df.drop(columns=['schedule_version'])\n",
    "    # Convert the DataFrame to a string representation and calculate the hash\n",
    "    return hashlib.md5(pd.util.hash_pandas_object(df, index=False).values).hexdigest()\n",
    "\n",
    "# Track unique hashes and their associated files\n",
    "unique_hashes = {}\n",
    "files_to_remove = []\n",
    "\n",
    "# Iterate through all CSV files in the folder\n",
    "for file_name in os.listdir(input_folder):\n",
    "    if file_name.endswith(\".csv\"):\n",
    "        file_path = os.path.join(input_folder, file_name)\n",
    "\n",
    "        # Load the CSV file\n",
    "        df = pd.read_csv(file_path)\n",
    "\n",
    "        # Calculate the hash of the DataFrame content\n",
    "        file_hash = calculate_hash(df)\n",
    "\n",
    "        # Check if this hash is already encountered\n",
    "        if file_hash in unique_hashes:\n",
    "            # This file is a duplicate; mark it for deletion\n",
    "            files_to_remove.append(file_path)\n",
    "        else:\n",
    "            # This hash is unique; store it with the file name\n",
    "            unique_hashes[file_hash] = file_name\n",
    "\n",
    "# Delete duplicate files\n",
    "for file_path in files_to_remove:\n",
    "    os.remove(file_path)\n",
    "    print(f\"Deleted duplicate file: {file_path}\")\n",
    "\n",
    "print(\"Duplicate file removal complete.\")\n"
   ]
  },
  {
   "cell_type": "code",
   "execution_count": null,
   "metadata": {},
   "outputs": [],
   "source": []
  },
  {
   "cell_type": "code",
   "execution_count": null,
   "metadata": {},
   "outputs": [],
   "source": []
  },
  {
   "cell_type": "code",
   "execution_count": null,
   "metadata": {},
   "outputs": [],
   "source": []
  }
 ],
 "metadata": {
  "kernelspec": {
   "display_name": "base",
   "language": "python",
   "name": "python3"
  },
  "language_info": {
   "codemirror_mode": {
    "name": "ipython",
    "version": 3
   },
   "file_extension": ".py",
   "mimetype": "text/x-python",
   "name": "python",
   "nbconvert_exporter": "python",
   "pygments_lexer": "ipython3",
   "version": "3.11.5"
  }
 },
 "nbformat": 4,
 "nbformat_minor": 2
}
